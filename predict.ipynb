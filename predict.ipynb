{
 "cells": [
  {
   "cell_type": "markdown",
   "metadata": {},
   "source": [
    "# Разархивирование файла"
   ]
  },
  {
   "cell_type": "code",
   "execution_count": 1,
   "metadata": {
    "collapsed": false
   },
   "outputs": [
    {
     "name": "stdout",
     "output_type": "stream",
     "text": [
      "\n",
      "UNRAR 5.50 freeware      Copyright (c) 1993-2017 Alexander Roshal\n",
      "\n",
      "\n",
      "Extracting from feedback.csv.rar\n",
      "\n",
      "Extracting  X_train.csv                                                  \b\b\b\b  1%\b\b\b\b  2%\b\b\b\b  3%\b\b\b\b  4%\b\b\b\b  5%\b\b\b\b  6%\b\b\b\b  7%\b\b\b\b  8%\b\b\b\b  9%\b\b\b\b 10%\b\b\b\b 11%\b\b\b\b 12%\b\b\b\b 13%\b\b\b\b 14%\b\b\b\b 15%\b\b\b\b 16%\b\b\b\b 17%\b\b\b\b 18%\b\b\b\b 19%\b\b\b\b 20%\b\b\b\b 21%\b\b\b\b 22%\b\b\b\b 23%\b\b\b\b 24%\b\b\b\b 25%\b\b\b\b 26%\b\b\b\b 27%\b\b\b\b 28%\b\b\b\b 29%\b\b\b\b 30%\b\b\b\b 31%\b\b\b\b 32%\b\b\b\b 33%\b\b\b\b 34%\b\b\b\b 35%\b\b\b\b 36%\b\b\b\b 37%\b\b\b\b 38%\b\b\b\b 39%\b\b\b\b 40%\b\b\b\b 41%\b\b\b\b 42%\b\b\b\b 43%\b\b\b\b 44%\b\b\b\b 45%\b\b\b\b 46%\b\b\b\b 47%\b\b\b\b 48%\b\b\b\b 49%\b\b\b\b 50%\b\b\b\b 51%\b\b\b\b 52%\b\b\b\b 53%\b\b\b\b 54%\b\b\b\b 55%\b\b\b\b 56%\b\b\b\b 57%\b\b\b\b 58%\b\b\b\b 59%\b\b\b\b 60%\b\b\b\b 61%\b\b\b\b 62%\b\b\b\b 63%\b\b\b\b 64%\b\b\b\b 65%\b\b\b\b 66%\b\b\b\b 67%\b\b\b\b 68%\b\b\b\b 69%\b\b\b\b 70%\b\b\b\b 72%\b\b\b\b 73%\b\b\b\b 74%\b\b\b\b 75%\b\b\b\b 76%\b\b\b\b 77%\b\b\b\b 78%\b\b\b\b 79%\b\b\b\b 80%\b\b\b\b 81%\b\b\b\b 82%\b\b\b\b 83%\b\b\b\b 84%\b\b\b\b 85%\b\b\b\b 86%\b\b\b\b 87%\b\b\b\b 88%\b\b\b\b 89%\b\b\b\b 90%\b\b\b\b 91%\b\b\b\b 92%\b\b\b\b 93%\b\b\b\b 94%\b\b\b\b 95%\b\b\b\b 96%\b\b\b\b 97%\b\b\b\b 98%\b\b\b\b 99%\b\b\b\b\b  OK \n",
      "All OK\n"
     ]
    }
   ],
   "source": [
    "! unrar e -r feedback.csv.rar "
   ]
  },
  {
   "cell_type": "markdown",
   "metadata": {},
   "source": [
    "# Загрузка библиотек"
   ]
  },
  {
   "cell_type": "code",
   "execution_count": 190,
   "metadata": {
    "collapsed": false
   },
   "outputs": [],
   "source": [
    "import pandas as pd\n",
    "from sklearn.feature_extraction.text import CountVectorizer\n",
    "import pymorphy2\n",
    "import numpy as np\n",
    "import random\n",
    "from sklearn.metrics import accuracy_score, f1_score, mean_squared_error\n",
    "from sklearn.model_selection import train_test_split\n",
    "from stop_words import get_stop_words\n",
    "import sys\n",
    "import re\n",
    "import math\n",
    "\n",
    "from tqdm import tqdm\n",
    "stop_words = stop_words = get_stop_words('ru')\n",
    "\n",
    "from matplotlib import pyplot as plt\n",
    "%matplotlib inline"
   ]
  },
  {
   "cell_type": "markdown",
   "metadata": {},
   "source": [
    "# Загрузка выборки"
   ]
  },
  {
   "cell_type": "code",
   "execution_count": 268,
   "metadata": {
    "collapsed": false,
    "scrolled": true
   },
   "outputs": [
    {
     "data": {
      "text/html": [
       "<div>\n",
       "<table border=\"1\" class=\"dataframe\">\n",
       "  <thead>\n",
       "    <tr style=\"text-align: right;\">\n",
       "      <th></th>\n",
       "      <th>sku</th>\n",
       "      <th>categoryLevel1Id</th>\n",
       "      <th>categoryLevel2Id</th>\n",
       "      <th>brandId</th>\n",
       "      <th>property</th>\n",
       "      <th>userName</th>\n",
       "      <th>reting</th>\n",
       "      <th>date</th>\n",
       "      <th>comment</th>\n",
       "      <th>commentNegative</th>\n",
       "      <th>commentPositive</th>\n",
       "    </tr>\n",
       "  </thead>\n",
       "  <tbody>\n",
       "    <tr>\n",
       "      <th>0</th>\n",
       "      <td>20005023</td>\n",
       "      <td>401</td>\n",
       "      <td>4010201</td>\n",
       "      <td>826</td>\n",
       "      <td>[{34: 'f982777489055c6563d68c005fd24aad'}, {36...</td>\n",
       "      <td>b2898a81b45310b30beb8fc0c0a9ce1e</td>\n",
       "      <td>2.0</td>\n",
       "      <td>2013-06-28</td>\n",
       "      <td>2,5 года работала и все...устала! Лампочка гор...</td>\n",
       "      <td>NaN</td>\n",
       "      <td>NaN</td>\n",
       "    </tr>\n",
       "    <tr>\n",
       "      <th>1</th>\n",
       "      <td>20020647</td>\n",
       "      <td>403</td>\n",
       "      <td>4030101</td>\n",
       "      <td>1425</td>\n",
       "      <td>[{34: '9ce895413ebdf6b6dcb69b07dc782591'}, {36...</td>\n",
       "      <td>538c73d64461e13907bb95c51c38bfbc</td>\n",
       "      <td>2.0</td>\n",
       "      <td>2010-07-04</td>\n",
       "      <td>Через 2 месяца после истечении гарантийного ср...</td>\n",
       "      <td>NaN</td>\n",
       "      <td>NaN</td>\n",
       "    </tr>\n",
       "    <tr>\n",
       "      <th>2</th>\n",
       "      <td>20020701</td>\n",
       "      <td>401</td>\n",
       "      <td>4010401</td>\n",
       "      <td>124</td>\n",
       "      <td>[{34: '9ce895413ebdf6b6dcb69b07dc782591'}, {36...</td>\n",
       "      <td>ddca2d0101513a6209db7868eed8be05</td>\n",
       "      <td>4.0</td>\n",
       "      <td>2010-05-27</td>\n",
       "      <td>пользуюсь уже три недели. нареканий ни каких н...</td>\n",
       "      <td>NaN</td>\n",
       "      <td>NaN</td>\n",
       "    </tr>\n",
       "  </tbody>\n",
       "</table>\n",
       "</div>"
      ],
      "text/plain": [
       "        sku  categoryLevel1Id  categoryLevel2Id  brandId  \\\n",
       "0  20005023               401           4010201      826   \n",
       "1  20020647               403           4030101     1425   \n",
       "2  20020701               401           4010401      124   \n",
       "\n",
       "                                            property  \\\n",
       "0  [{34: 'f982777489055c6563d68c005fd24aad'}, {36...   \n",
       "1  [{34: '9ce895413ebdf6b6dcb69b07dc782591'}, {36...   \n",
       "2  [{34: '9ce895413ebdf6b6dcb69b07dc782591'}, {36...   \n",
       "\n",
       "                           userName  reting        date  \\\n",
       "0  b2898a81b45310b30beb8fc0c0a9ce1e     2.0  2013-06-28   \n",
       "1  538c73d64461e13907bb95c51c38bfbc     2.0  2010-07-04   \n",
       "2  ddca2d0101513a6209db7868eed8be05     4.0  2010-05-27   \n",
       "\n",
       "                                             comment commentNegative  \\\n",
       "0  2,5 года работала и все...устала! Лампочка гор...             NaN   \n",
       "1  Через 2 месяца после истечении гарантийного ср...             NaN   \n",
       "2  пользуюсь уже три недели. нареканий ни каких н...             NaN   \n",
       "\n",
       "  commentPositive  \n",
       "0             NaN  \n",
       "1             NaN  \n",
       "2             NaN  "
      ]
     },
     "execution_count": 268,
     "metadata": {},
     "output_type": "execute_result"
    }
   ],
   "source": [
    "df = pd.read_csv('X_train.csv')\n",
    "df[:3]"
   ]
  },
  {
   "cell_type": "markdown",
   "metadata": {},
   "source": [
    "# Извлечение всехотзывов из таблицы"
   ]
  },
  {
   "cell_type": "code",
   "execution_count": 269,
   "metadata": {
    "collapsed": false
   },
   "outputs": [
    {
     "name": "stdout",
     "output_type": "stream",
     "text": [
      "X.shape:\t(15587, 26504)\n",
      "y.shape:\t(15587,)\n"
     ]
    }
   ],
   "source": [
    "X, y = [],[]\n",
    "for i in df[['comment', 'commentNegative', 'commentPositive']].get_values():\n",
    "    temp = i[0]\n",
    "    for t in i[1:]:\n",
    "        if type(t) != type(1.0):\n",
    "            temp += t            \n",
    "    X.append(temp)\n",
    "df['text'] = X\n",
    "\n",
    "simple_count_vectorizer = CountVectorizer(min_df=0.0001, max_df=0.95, analyzer=\"word\", stop_words=stop_words)\n",
    "X = simple_count_vectorizer.fit_transform((line for line in X))\n",
    "y = np.array(df['reting'])\n",
    "\n",
    "print(\"X.shape:\\t\"+str(X.shape)+\"\\ny.shape:\\t\"+str(y.shape))\n"
   ]
  },
  {
   "cell_type": "code",
   "execution_count": 270,
   "metadata": {
    "collapsed": false
   },
   "outputs": [
    {
     "name": "stdout",
     "output_type": "stream",
     "text": [
      "RF Regressor, without text\n",
      "1.95289208791\n",
      "0.177225340818\n",
      "RF Classifier, without text\n",
      "2.79826623897\n",
      "0.482919005613\n"
     ]
    }
   ],
   "source": [
    "for key in ['sku', 'categoryLevel1Id', 'categoryLevel2Id', 'brandId', 'userName']:\n",
    "    lst = list(df[key].unique())\n",
    "    df[key+\"_mod\"] = [lst.index(i) for i in df[key]]\n",
    "    \n",
    "X_mod =  df[['sku_mod', 'categoryLevel1Id_mod', 'categoryLevel2Id_mod', 'brandId_mod', 'userName_mod', 'text']]\n",
    "y_mod = df['reting']\n",
    "\n",
    "X_train, X_test, y_train, y_test = train_test_split(X_mod, y_mod, test_size=0.4, random_state=0)\n",
    "del X_train['text'], X_test['text']\n",
    "\n",
    "clf = RandomForestRegressor()\n",
    "clf.fit(X_train, y_train)\n",
    "y_predict_mod = clf.predict(X_test)\n",
    "print('RF Regressor, without text')\n",
    "print(mean_squared_error([i for i in y_predict_mod], [i for i in y_test]))\n",
    "print(accuracy_score([int(i) for i in y_predict_mod], [int(i) for i in y_test]))\n",
    "\n",
    "\n",
    "\n",
    "clf = RandomForestClassifier()\n",
    "clf.fit(X_train, [int(i) for i in y_train])\n",
    "y_predict_mod = clf.predict(X_test)\n",
    "\n",
    "print('RF Classifier, without text')\n",
    "print(mean_squared_error([i for i in y_predict_mod], [i for i in y_test]))\n",
    "print(accuracy_score([int(i) for i in y_predict_mod], [int(i) for i in y_test]))\n",
    "\n"
   ]
  },
  {
   "cell_type": "markdown",
   "metadata": {},
   "source": [
    "## Обучаем random forest"
   ]
  },
  {
   "cell_type": "code",
   "execution_count": 271,
   "metadata": {
    "collapsed": false
   },
   "outputs": [],
   "source": [
    "# X_train, X_test, y_train, y_test = train_test_split(df,df, test_size=0.4, random_state=0)"
   ]
  },
  {
   "cell_type": "code",
   "execution_count": 272,
   "metadata": {
    "collapsed": false
   },
   "outputs": [
    {
     "name": "stdout",
     "output_type": "stream",
     "text": [
      "RF Regressor, only text\n",
      "1.1731609936\n",
      "0.27056936648\n",
      "RF Classifier, only text\n",
      "1.16817508701\n",
      "0.264955894146\n"
     ]
    }
   ],
   "source": [
    "from sklearn.linear_model import LogisticRegression\n",
    "from sklearn.linear_model import SGDClassifier\n",
    "from sklearn.ensemble     import RandomForestClassifier, RandomForestRegressor\n",
    "Epochs = 10\n",
    "accuracy_list = []\n",
    "\n",
    "temp = []\n",
    "\n",
    "# X_train, X_test, y_train, y_test = train_test_split(X, y, test_size=0.4, random_state=0)\n",
    "X_train = X[X_train.index]\n",
    "X_test  = X[X_test.index]\n",
    "# y_train = df.icol[y_train.index]['reting']\n",
    "# y_test  = df.icol[y_test.index]['reting']\n",
    "\n",
    "model = RandomForestRegressor(n_estimators=100)\n",
    "model.fit(X_train,  y_train)\n",
    "y_predict = model.predict(X_test)\n",
    "\n",
    "print('RF Regressor, only text')\n",
    "print(mean_squared_error([i for i in y_predict], [i for i in y_test]))\n",
    "print(accuracy_score([int(i) for i in y_predict], [int(i) for i in y_test]))\n",
    "\n",
    "model = RandomForestRegressor(n_estimators=100)\n",
    "model.fit(X_train, [int(i) for i in y_train])\n",
    "y_predict = model.predict(X_test)\n",
    "\n",
    "print('RF Classifier, only text')\n",
    "print(mean_squared_error([i for i in y_predict], [i for i in y_test]))\n",
    "print(accuracy_score([int(i) for i in y_predict], [int(i) for i in y_test]))\n",
    "\n",
    "\n",
    "# print('1.1636271056\\n0.267361668003')\n"
   ]
  },
  {
   "cell_type": "code",
   "execution_count": null,
   "metadata": {
    "collapsed": false
   },
   "outputs": [],
   "source": []
  },
  {
   "cell_type": "code",
   "execution_count": 134,
   "metadata": {
    "collapsed": false
   },
   "outputs": [],
   "source": [
    "df2 = df.groupby('brandId').mean()"
   ]
  },
  {
   "cell_type": "code",
   "execution_count": 135,
   "metadata": {
    "collapsed": false
   },
   "outputs": [
    {
     "data": {
      "text/plain": [
       "<matplotlib.axes._subplots.AxesSubplot at 0x1177b2ef0>"
      ]
     },
     "execution_count": 135,
     "metadata": {},
     "output_type": "execute_result"
    },
    {
     "data": {
      "image/png": "[encoded data removed]",
      "text/plain": [
       "<matplotlib.figure.Figure at 0x1178bd320>"
      ]
     },
     "metadata": {},
     "output_type": "display_data"
    }
   ],
   "source": [
    "df2['reting'].hist()"
   ]
  },
  {
   "cell_type": "code",
   "execution_count": 136,
   "metadata": {
    "collapsed": false
   },
   "outputs": [
    {
     "data": {
      "text/plain": [
       "<matplotlib.axes._subplots.AxesSubplot at 0x1178cdc18>"
      ]
     },
     "execution_count": 136,
     "metadata": {},
     "output_type": "execute_result"
    },
    {
     "data": {
      "image/png": "[encoded data removed]",
      "text/plain": [
       "<matplotlib.figure.Figure at 0x117a75a20>"
      ]
     },
     "metadata": {},
     "output_type": "display_data"
    }
   ],
   "source": [
    "df2['reting'].hist()"
   ]
  }
 ],
 "metadata": {
  "kernelspec": {
   "display_name": "Python 3",
   "language": "python",
   "name": "python3"
  },
  "language_info": {
   "codemirror_mode": {
    "name": "ipython",
    "version": 3
   },
   "file_extension": ".py",
   "mimetype": "text/x-python",
   "name": "python",
   "nbconvert_exporter": "python",
   "pygments_lexer": "ipython3",
   "version": "3.5.1"
  }
 },
 "nbformat": 4,
 "nbformat_minor": 0
}
